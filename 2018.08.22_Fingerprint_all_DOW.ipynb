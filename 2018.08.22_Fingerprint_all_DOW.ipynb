{
 "cells": [
  {
   "cell_type": "code",
   "execution_count": 1,
   "metadata": {},
   "outputs": [
    {
     "name": "stderr",
     "output_type": "stream",
     "text": [
      "/Users/tiatummino/miniconda3/lib/python3.6/site-packages/h5py/__init__.py:36: FutureWarning: Conversion of the second argument of issubdtype from `float` to `np.floating` is deprecated. In future, it will be treated as `np.float64 == np.dtype(float).type`.\n",
      "  from ._conv import register_converters as _register_converters\n"
     ]
    }
   ],
   "source": [
    "import os, sys\n",
    "sys.path.append(os.path.abspath(os.environ['KALE']))\n",
    "from kale.jupyter import *\n",
    "from sklearn import model_selection as ms\n",
    "import matplotlib.pyplot as plt\n",
    "\n",
    "\n",
    "\n",
    "%matplotlib inline\n",
    "%load_ext autoreload\n",
    "%autoreload 2\n",
    "\n",
    "%load_ext autotime\n",
    "\n",
    "quick = Quick(cache = FrameCache('MI'), stim_cache=StimCache())"
   ]
  },
  {
   "cell_type": "code",
   "execution_count": null,
   "metadata": {},
   "outputs": [],
   "source": [
    "Lookups.runs(Experiments.name == 'retest :: DOW compounds :: tia :: transfer plate with ideal doses 2')\n"
   ]
  },
  {
   "cell_type": "code",
   "execution_count": 12,
   "metadata": {},
   "outputs": [
    {
     "data": {
      "text/plain": [
       "8"
      ]
     },
     "execution_count": 12,
     "metadata": {},
     "output_type": "execute_result"
    },
    {
     "name": "stdout",
     "output_type": "stream",
     "text": [
      "time: 2.52 s\n"
     ]
    }
   ],
   "source": [
    "all_DOW = Lookups.runs(Experiments.name == 'retest :: DOW compounds :: tia :: transfer plate with ideal doses 2')\n",
    "all_DOW = all_DOW['id'].tolist()\n",
    "all_DOW.remove(5486)\n",
    "all_DOW.remove(5499)\n",
    "len(all_DOW)"
   ]
  },
  {
   "cell_type": "markdown",
   "metadata": {},
   "source": [
    "# Fingerprinting Algorithm (broken down assay by assay)"
   ]
  },
  {
   "cell_type": "code",
   "execution_count": 97,
   "metadata": {},
   "outputs": [
    {
     "name": "stdout",
     "output_type": "stream",
     "text": [
      "time: 12.3 ms\n"
     ]
    }
   ],
   "source": [
    "def fingerprint_run(run_id):\n",
    "    run = Lookups.runs(run_id)\n",
    "    battery_name = run['battery'][0]\n",
    "    \n",
    "    app_frame = pd.DataFrame(AppFrame.of(battery_name))\n",
    "    \n",
    "    \n",
    "    ct = 0\n",
    "    \n",
    "    df = quick.df(run_id)\n",
    "    \n",
    "    for index, row in app_frame.iterrows():\n",
    "\n",
    "        start_ms = row['start_ms']\n",
    "        \n",
    "\n",
    "        end_ms = row['end_ms']\n",
    "        \n",
    "        name = row['simplified_name']\n",
    "\n",
    "        frames = df.slice_ms(start_ms = start_ms, end_ms = end_ms ).features()\n",
    "        frames_grouped = frames.groupby(by = frames.index).mean()\n",
    "\n",
    "\n",
    "        control = frames_grouped[frames_grouped.index.str.contains('solvent')]\n",
    "        control_sd = int(np.std(control, axis = 1)) \n",
    "        control_mean = int(control.mean(axis = 1))\n",
    "        \n",
    "\n",
    "     \n",
    "        \n",
    "        if ct == 0: \n",
    "\n",
    "            beyond_dict = dict()\n",
    "            \n",
    "            for i in range(0,len(frames_grouped.index)):\n",
    "\n",
    "                non_control = pd.DataFrame((frames_grouped.iloc[i,:])).T\n",
    "\n",
    "                non_control_mean = int(np.mean(non_control, axis = 1))\n",
    "\n",
    "\n",
    "                if (non_control_mean > (control_mean +(control_sd))):\n",
    "\n",
    "                    beyond_dict.update({frames_grouped.index[i]:[run_id,1]})\n",
    "                elif (non_control_mean <(control_mean -(control_sd))): \n",
    "                    beyond_dict.update({frames_grouped.index[i]:[run_id, -1]})\n",
    "                else:\n",
    "                    beyond_dict.update({frames_grouped.index[i]:[run_id,0]})\n",
    "            beyond_df = pd.DataFrame.from_dict(beyond_dict, orient = 'index', columns = ['run_id',name])\n",
    "            \n",
    "            ct = ct + 1\n",
    "\n",
    "        else: \n",
    "            beyond_dict = dict()\n",
    "            \n",
    "            for i in range(0,len(frames_grouped.index)):\n",
    "\n",
    "                non_control = pd.DataFrame((frames_grouped.iloc[i,:])).T\n",
    "\n",
    "                non_control_mean = int(np.mean(non_control, axis = 1))\n",
    "\n",
    "\n",
    "                if (non_control_mean > (control_mean +(control_sd))):\n",
    "\n",
    "                    beyond_dict.update({frames_grouped.index[i]:1})\n",
    "                elif (non_control_mean <(control_mean -(control_sd))): \n",
    "                    beyond_dict.update({frames_grouped.index[i]:-1})\n",
    "                else:\n",
    "                    beyond_dict.update({frames_grouped.index[i]:0})\n",
    "            append_df = pd.DataFrame.from_dict(beyond_dict, orient = 'index', columns = [name])\n",
    "            \n",
    "            if ct == 1: \n",
    "            \n",
    "            \n",
    "                fingerprint_table = pd.concat([beyond_df, append_df], \n",
    "                                  axis = 1)\n",
    "                ct = ct + 1\n",
    "            else: \n",
    "                fingerprint_table = pd.concat([fingerprint_table, append_df], \n",
    "                              axis = 1)\n",
    "                ct = ct + 1\n",
    "                \n",
    "                \n",
    "      \n",
    "\n",
    "\n",
    "    return fingerprint_table\n"
   ]
  },
  {
   "cell_type": "markdown",
   "metadata": {},
   "source": [
    "# Example usage of the fingerprint algorithm "
   ]
  },
  {
   "cell_type": "code",
   "execution_count": null,
   "metadata": {},
   "outputs": [],
   "source": [
    "fprint = fingerprint_run(5660)\n",
    "fprint"
   ]
  },
  {
   "cell_type": "markdown",
   "metadata": {},
   "source": [
    "# Correlate a reference fingerprint to fingerprints from a plate\n",
    "## Not the most effective becasue it finds patterns, not exact matches"
   ]
  },
  {
   "cell_type": "code",
   "execution_count": 67,
   "metadata": {},
   "outputs": [
    {
     "name": "stdout",
     "output_type": "stream",
     "text": [
      "time: 9.14 ms\n"
     ]
    }
   ],
   "source": [
    "#Doesn't work great becuase not sensitive to magnitude, so it just matches the patterns\n",
    "def correlate_fingerprint(run_id, reference_id, ideal_dose):\n",
    "    query = fingerprint_run(run_id)\n",
    "    query = query[query.index.str.contains(ideal_dose)]\n",
    "    reference = fingerprint_run(reference_id)\n",
    "    \n",
    "    \n",
    "    \n",
    "    lt = dict()\n",
    "    \n",
    "    for i in range(0,len(reference.index)):\n",
    "        \n",
    "        coeff = np.corrcoef(query.iloc[0,:], reference.iloc[i,:])\n",
    "        coeff = (1-coeff[0][1])\n",
    "        lt.update({str(i) + ' ' + str(query.index[0]):[reference.index[i],run_id, coeff]} )\n",
    "\n",
    "    lt = pd.DataFrame.from_dict(lt, orient = 'index', columns = ['reference','run_id','corr_score'])\n",
    "    lt.sort_values(by=['corr_score'], ascending = True, inplace = True)\n",
    "    return lt\n",
    "#e.g. \n",
    "#data = correlate_fingerprint(5660,5506,'50.0µM' ) "
   ]
  },
  {
   "cell_type": "markdown",
   "metadata": {},
   "source": [
    "# Find the percent of assays where the fingerprint is the same\n",
    "## Works best at the moment "
   ]
  },
  {
   "cell_type": "code",
   "execution_count": 96,
   "metadata": {},
   "outputs": [
    {
     "name": "stdout",
     "output_type": "stream",
     "text": [
      "time: 6.69 ms\n"
     ]
    }
   ],
   "source": [
    "def compare_fingerprints(query_run_id, reference_id, query_ideal_dose):\n",
    "\n",
    "    query = fingerprint_run(query_run_id)\n",
    "    query = query[query.index.str.contains(query_ideal_dose)]\n",
    "    reference = fingerprint_run(reference_id)\n",
    "    \n",
    "    \n",
    "    lt = dict()\n",
    "    for i in range(0,len(reference.index)):\n",
    "        \n",
    "\n",
    "        raw_score = 0\n",
    "        for n in range(0,len(reference.columns)):\n",
    "            if (query.iloc[0,n] == reference.iloc[i,n]):\n",
    "                raw_score = raw_score + 1\n",
    "            else: \n",
    "                continue\n",
    "        percent_sim = (raw_score/(len(reference.columns)))\n",
    "\n",
    "        lt.update({str(i) + ' ' + str(query.index[0]):[reference.index[i],query_run_id, \n",
    "                                                       reference_id, raw_score, percent_sim]} )\n",
    "\n",
    "\n",
    "    lt = pd.DataFrame.from_dict(lt, orient = 'index', columns = ['reference', 'query_run_id',\n",
    "                                                                 'reference_id','raw_score',\n",
    "                                                                 'percent_similarity'])\n",
    "    lt.sort_values(by = 'percent_similarity', ascending = False, inplace = True)\n",
    "    return lt \n",
    "    "
   ]
  },
  {
   "cell_type": "code",
   "execution_count": 95,
   "metadata": {},
   "outputs": [
    {
     "data": {
      "text/html": [
       "<div>\n",
       "<style scoped>\n",
       "    .dataframe tbody tr th:only-of-type {\n",
       "        vertical-align: middle;\n",
       "    }\n",
       "\n",
       "    .dataframe tbody tr th {\n",
       "        vertical-align: top;\n",
       "    }\n",
       "\n",
       "    .dataframe thead th {\n",
       "        text-align: right;\n",
       "    }\n",
       "</style>\n",
       "<table border=\"1\" class=\"dataframe\">\n",
       "  <thead>\n",
       "    <tr style=\"text-align: right;\">\n",
       "      <th></th>\n",
       "      <th>reference</th>\n",
       "      <th>query_run_id</th>\n",
       "      <th>query_reference_id</th>\n",
       "      <th>raw_score</th>\n",
       "      <th>percent_similarity</th>\n",
       "    </tr>\n",
       "  </thead>\n",
       "  <tbody>\n",
       "    <tr>\n",
       "      <th>5 33714 (50.0µM)</th>\n",
       "      <td>endosulfan (0.195µM)</td>\n",
       "      <td>5660</td>\n",
       "      <td>5506</td>\n",
       "      <td>37</td>\n",
       "      <td>0.770833</td>\n",
       "    </tr>\n",
       "    <tr>\n",
       "      <th>2 33714 (50.0µM)</th>\n",
       "      <td>buprofezin (6.25µM)</td>\n",
       "      <td>5660</td>\n",
       "      <td>5506</td>\n",
       "      <td>25</td>\n",
       "      <td>0.520833</td>\n",
       "    </tr>\n",
       "    <tr>\n",
       "      <th>0 33714 (50.0µM)</th>\n",
       "      <td>acetamiprid (800.0µM)</td>\n",
       "      <td>5660</td>\n",
       "      <td>5506</td>\n",
       "      <td>21</td>\n",
       "      <td>0.437500</td>\n",
       "    </tr>\n",
       "    <tr>\n",
       "      <th>3 33714 (50.0µM)</th>\n",
       "      <td>chlorantraniliprole (25.0µM)</td>\n",
       "      <td>5660</td>\n",
       "      <td>5506</td>\n",
       "      <td>17</td>\n",
       "      <td>0.354167</td>\n",
       "    </tr>\n",
       "    <tr>\n",
       "      <th>10 33714 (50.0µM)</th>\n",
       "      <td>ivermectin (0.195µM)</td>\n",
       "      <td>5660</td>\n",
       "      <td>5506</td>\n",
       "      <td>15</td>\n",
       "      <td>0.312500</td>\n",
       "    </tr>\n",
       "    <tr>\n",
       "      <th>12 33714 (50.0µM)</th>\n",
       "      <td>pymetrozin (1.56µM)</td>\n",
       "      <td>5660</td>\n",
       "      <td>5506</td>\n",
       "      <td>15</td>\n",
       "      <td>0.312500</td>\n",
       "    </tr>\n",
       "    <tr>\n",
       "      <th>13 33714 (50.0µM)</th>\n",
       "      <td>solvent (-)</td>\n",
       "      <td>5660</td>\n",
       "      <td>5506</td>\n",
       "      <td>15</td>\n",
       "      <td>0.312500</td>\n",
       "    </tr>\n",
       "    <tr>\n",
       "      <th>14 33714 (50.0µM)</th>\n",
       "      <td>thiamethoxam (0.195µM)</td>\n",
       "      <td>5660</td>\n",
       "      <td>5506</td>\n",
       "      <td>15</td>\n",
       "      <td>0.312500</td>\n",
       "    </tr>\n",
       "    <tr>\n",
       "      <th>7 33714 (50.0µM)</th>\n",
       "      <td>flonicamid (0.195µM)</td>\n",
       "      <td>5660</td>\n",
       "      <td>5506</td>\n",
       "      <td>14</td>\n",
       "      <td>0.291667</td>\n",
       "    </tr>\n",
       "    <tr>\n",
       "      <th>9 33714 (50.0µM)</th>\n",
       "      <td>indoxacarb (6.25µM)</td>\n",
       "      <td>5660</td>\n",
       "      <td>5506</td>\n",
       "      <td>12</td>\n",
       "      <td>0.250000</td>\n",
       "    </tr>\n",
       "    <tr>\n",
       "      <th>4 33714 (50.0µM)</th>\n",
       "      <td>emamectin (3.12µM)</td>\n",
       "      <td>5660</td>\n",
       "      <td>5506</td>\n",
       "      <td>6</td>\n",
       "      <td>0.125000</td>\n",
       "    </tr>\n",
       "    <tr>\n",
       "      <th>6 33714 (50.0µM)</th>\n",
       "      <td>fipronil (0.78µM)</td>\n",
       "      <td>5660</td>\n",
       "      <td>5506</td>\n",
       "      <td>5</td>\n",
       "      <td>0.104167</td>\n",
       "    </tr>\n",
       "    <tr>\n",
       "      <th>8 33714 (50.0µM)</th>\n",
       "      <td>imidacloprid (800.0µM)</td>\n",
       "      <td>5660</td>\n",
       "      <td>5506</td>\n",
       "      <td>3</td>\n",
       "      <td>0.062500</td>\n",
       "    </tr>\n",
       "    <tr>\n",
       "      <th>1 33714 (50.0µM)</th>\n",
       "      <td>alpha-cypermethrin (0.0061µM)</td>\n",
       "      <td>5660</td>\n",
       "      <td>5506</td>\n",
       "      <td>1</td>\n",
       "      <td>0.020833</td>\n",
       "    </tr>\n",
       "    <tr>\n",
       "      <th>11 33714 (50.0µM)</th>\n",
       "      <td>killed (+)</td>\n",
       "      <td>5660</td>\n",
       "      <td>5506</td>\n",
       "      <td>1</td>\n",
       "      <td>0.020833</td>\n",
       "    </tr>\n",
       "  </tbody>\n",
       "</table>\n",
       "</div>"
      ],
      "text/plain": [
       "                                       reference  query_run_id  \\\n",
       "5 33714 (50.0µM)            endosulfan (0.195µM)          5660   \n",
       "2 33714 (50.0µM)             buprofezin (6.25µM)          5660   \n",
       "0 33714 (50.0µM)           acetamiprid (800.0µM)          5660   \n",
       "3 33714 (50.0µM)    chlorantraniliprole (25.0µM)          5660   \n",
       "10 33714 (50.0µM)           ivermectin (0.195µM)          5660   \n",
       "12 33714 (50.0µM)            pymetrozin (1.56µM)          5660   \n",
       "13 33714 (50.0µM)                    solvent (-)          5660   \n",
       "14 33714 (50.0µM)         thiamethoxam (0.195µM)          5660   \n",
       "7 33714 (50.0µM)            flonicamid (0.195µM)          5660   \n",
       "9 33714 (50.0µM)             indoxacarb (6.25µM)          5660   \n",
       "4 33714 (50.0µM)              emamectin (3.12µM)          5660   \n",
       "6 33714 (50.0µM)               fipronil (0.78µM)          5660   \n",
       "8 33714 (50.0µM)          imidacloprid (800.0µM)          5660   \n",
       "1 33714 (50.0µM)   alpha-cypermethrin (0.0061µM)          5660   \n",
       "11 33714 (50.0µM)                     killed (+)          5660   \n",
       "\n",
       "                   query_reference_id  raw_score  percent_similarity  \n",
       "5 33714 (50.0µM)                 5506         37            0.770833  \n",
       "2 33714 (50.0µM)                 5506         25            0.520833  \n",
       "0 33714 (50.0µM)                 5506         21            0.437500  \n",
       "3 33714 (50.0µM)                 5506         17            0.354167  \n",
       "10 33714 (50.0µM)                5506         15            0.312500  \n",
       "12 33714 (50.0µM)                5506         15            0.312500  \n",
       "13 33714 (50.0µM)                5506         15            0.312500  \n",
       "14 33714 (50.0µM)                5506         15            0.312500  \n",
       "7 33714 (50.0µM)                 5506         14            0.291667  \n",
       "9 33714 (50.0µM)                 5506         12            0.250000  \n",
       "4 33714 (50.0µM)                 5506          6            0.125000  \n",
       "6 33714 (50.0µM)                 5506          5            0.104167  \n",
       "8 33714 (50.0µM)                 5506          3            0.062500  \n",
       "1 33714 (50.0µM)                 5506          1            0.020833  \n",
       "11 33714 (50.0µM)                5506          1            0.020833  "
      ]
     },
     "execution_count": 95,
     "metadata": {},
     "output_type": "execute_result"
    },
    {
     "name": "stdout",
     "output_type": "stream",
     "text": [
      "time: 17.7 s\n"
     ]
    }
   ],
   "source": [
    "compare_fingerprints(5660,5506,'50.0µM' )"
   ]
  },
  {
   "cell_type": "code",
   "execution_count": null,
   "metadata": {},
   "outputs": [],
   "source": []
  },
  {
   "cell_type": "code",
   "execution_count": null,
   "metadata": {},
   "outputs": [],
   "source": []
  }
 ],
 "metadata": {
  "kernelspec": {
   "display_name": "Python [conda env:miniconda3]",
   "language": "python",
   "name": "conda-env-miniconda3-py"
  },
  "language_info": {
   "codemirror_mode": {
    "name": "ipython",
    "version": 3
   },
   "file_extension": ".py",
   "mimetype": "text/x-python",
   "name": "python",
   "nbconvert_exporter": "python",
   "pygments_lexer": "ipython3",
   "version": "3.6.4"
  }
 },
 "nbformat": 4,
 "nbformat_minor": 2
}
